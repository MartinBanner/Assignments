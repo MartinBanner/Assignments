{
 "cells": [
  {
   "cell_type": "markdown",
   "metadata": {},
   "source": [
    "![](https://img.kaikeba.com/web/kkb_index/img_index_logo.png)"
   ]
  },
  {
   "cell_type": "markdown",
   "metadata": {},
   "source": [
    "# 人工智能基础课机器学习 第三节课作业 线性回归\n",
    "\n",
    "同学们大家好，本次作业是考察学生对线性回归的理解与SKLearn的使用，以及pandas的使用。\n",
    "\n",
    "本次作业的数据集：data.csv\n",
    "这份数据代表了一个循环发电厂，每个数据有5列，分别是:AT（温度）, V（压力）, AP（湿度）, RH（压强）, PE（输出电力)\n",
    "\n",
    "问题是得到一个线性的关系，对应PE是样本输出，而AT/V/AP/RH这4个是样本特征， 机器学习的目的就是得到一个线性回归模型，即: PE=W0+W1∗AT+W2∗V+W3∗AP+W4∗RH 而需要学习的，就是W0,W1,W2,W3,W4这5个参数。\n"
   ]
  },
  {
   "cell_type": "code",
   "execution_count": 1,
   "metadata": {
    "collapsed": true
   },
   "outputs": [],
   "source": [
    "# -*- coding: UTF-8 -*-\n",
    "\n",
    "\n",
    "import math\n",
    "\n",
    "import numpy as np\n",
    "import pandas as pd\n",
    "\n",
    "from sklearn.model_selection import train_test_split\n",
    "from sklearn.linear_model import LinearRegression\n",
    "from sklearn.metrics import mean_squared_error\n",
    "\n",
    "import matplotlib.pyplot as plt"
   ]
  },
  {
   "cell_type": "markdown",
   "metadata": {},
   "source": [
    "# 第一步：读取样本数据，并将数据集分为训练集和测试集\n",
    "\n",
    "\n"
   ]
  },
  {
   "cell_type": "code",
   "execution_count": 2,
   "metadata": {
    "collapsed": true
   },
   "outputs": [],
   "source": [
    "# 数据预处理\n",
    "ccpp_df = pd.read_csv(\"data.csv\")\n",
    "ccpp_df = ccpp_df.drop_duplicates()\n",
    "ccpp_df = ccpp_df.reset_index(drop=True)\n",
    "\n",
    "ccpp_df = ccpp_df.dropna()\n",
    "ccpp_df = ccpp_df.reset_index(drop=True)\n",
    "\n",
    "\n",
    "# 将数据转换为 array\n",
    "# x 代表样本特征集，y 代表样本标签集\n",
    "x = np.array(ccpp_df.iloc[:, :4])\n",
    "y = np.array(ccpp_df.iloc[:, -1:])\n",
    "\n",
    "\n",
    "# 数据量较小（一万以下），将训练集和测试集划分为 7:3，即 test_size=0.3\n",
    "# 指定随机数种子 random_state 为 1，保证重复运行程序时，每次得到的训练集和测试集都一致\n",
    "# x_train 代表训练样本特征集，y_train 代表训练样本标签集\n",
    "# x_test 代表测试样本特征集，y_test 代表测试样本标签集\n",
    "x_train, x_test, y_train, y_test = train_test_split(x, y, test_size=0.3, random_state=1)"
   ]
  },
  {
   "cell_type": "markdown",
   "metadata": {},
   "source": [
    "#  第二步：训练Linear Regreesion模型，得到训练参数\n",
    "\n"
   ]
  },
  {
   "cell_type": "code",
   "execution_count": 3,
   "metadata": {
    "collapsed": true
   },
   "outputs": [
    {
     "name": "stdout",
     "output_type": "stream",
     "text": [
      "W0: 445.06270469357474\n",
      "W1: -1.9617673526393946, W2: -0.23964682673462956, W3: 0.0714580148656427, W4: -0.15811994049531902\n"
     ]
    }
   ],
   "source": [
    "# 调用模型\n",
    "lr = LinearRegression()\n",
    "\n",
    "\n",
    "# 训练模型\n",
    "lr.fit(x_train, y_train)\n",
    "\n",
    "\n",
    "# 打印训练参数 W0, W1, W2, W3, W4\n",
    "print(\"W0: {0}\".format(lr.intercept_[0]))\n",
    "print(\", \".join([(\"W\"+str(i+1)+\": \"+str(lr.coef_[0][i])) for i in range(len(lr.coef_[0]))]))"
   ]
  },
  {
   "cell_type": "markdown",
   "metadata": {},
   "source": [
    "# 第三步：使用均方误差和均方根误差在测试集上的表现来评价模型的好坏。\n",
    "\n"
   ]
  },
  {
   "cell_type": "code",
   "execution_count": 4,
   "metadata": {
    "collapsed": true
   },
   "outputs": [
    {
     "name": "stdout",
     "output_type": "stream",
     "text": [
      "MSE: 21.27130050802177, RMSE: 4.612082014450932\n",
      "测试样本 PE 均值: 454.4467016439315\n"
     ]
    }
   ],
   "source": [
    "# 计算在测试集上的均方误差(MSE)和均方根误差(RMSE)\n",
    "y_test_pred = lr.predict(x_test)\n",
    "\n",
    "MSE = mean_squared_error(y_test, y_test_pred)\n",
    "RMSE = np.sqrt(MSE)\n",
    "\n",
    "# 打印在测试集上的均方误差(MSE)和均方根误差(RMSE)\n",
    "print(\"MSE: {0}, RMSE: {1}\".format(MSE, RMSE))\n",
    "\n",
    "\n",
    "# 计算测试样本 PE 均值\n",
    "PE_test_mean = y_test.mean()\n",
    "\n",
    "# 打印测试样本 PE 均值\n",
    "print(\"测试样本 PE 均值: {0}\".format(PE_test_mean))"
   ]
  },
  {
   "cell_type": "markdown",
   "metadata": {},
   "source": [
    "相对于测试样本 PE 均值 454.45，RMSE 只有 4.61，因此可以认为模型质量较好。"
   ]
  },
  {
   "cell_type": "markdown",
   "metadata": {},
   "source": [
    "# 第四步：可视化的方式直观的表示模型学习效果的好坏\n",
    "\n"
   ]
  },
  {
   "cell_type": "code",
   "execution_count": 5,
   "metadata": {
    "collapsed": true
   },
   "outputs": [
    {
     "data": {
      "image/png": "[encoded data removed]",
      "text/plain": [
       "<Figure size 504x516.785 with 1 Axes>"
      ]
     },
     "metadata": {},
     "output_type": "display_data"
    }
   ],
   "source": [
    "# 模型学习效果图\n",
    "\n",
    "# 排序\n",
    "sorted_indices = np.argsort(y_test[:,0], axis=0)\n",
    "sorted_y_test = y_test[sorted_indices]\n",
    "sorted_y_test_pred = y_test_pred[sorted_indices]\n",
    "\n",
    "\n",
    "# 画布设置\n",
    "def regular_figsize_y(figsize_x, xlim_l, xlim_r, ylim_u, ylim_d):\n",
    "    result = 0\n",
    "\n",
    "    result = abs(figsize_x * (ylim_u - ylim_d) / (xlim_r - xlim_l))\n",
    "\n",
    "    return result\n",
    "\n",
    "\n",
    "figsize_x, figsize_y = 7, 7\n",
    "\n",
    "xlim_l, xlim_r = sorted_y_test.min()-10, sorted_y_test.max()+10\n",
    "ylim_d, ylim_u = sorted_y_test_pred.min()-10, sorted_y_test_pred.max()+10\n",
    "\n",
    "\n",
    "plt.figure(figsize=(figsize_x, regular_figsize_y(figsize_x, xlim_l, xlim_r, ylim_u, ylim_d)))\n",
    "\n",
    "# 解决中文显示问题\n",
    "plt.rcParams[\"font.sans-serif\"] = [\"SimHei\"] # 指定默认字体\n",
    "# 解决保存图像是负号'-'显示为方块的问题\n",
    "plt.rcParams[\"axes.unicode_minus\"] = False\n",
    "\n",
    "# x, y 轴标签和标题\n",
    "plt.xlabel(\"测试样本真实值\")\n",
    "plt.ylabel(\"测试样本预测值\")\n",
    "plt.title(\"模型学习效果图\")\n",
    "\n",
    "plt.scatter(sorted_y_test, sorted_y_test_pred)\n",
    "\n",
    "plt.xlim(xlim_l, xlim_r)\n",
    "plt.ylim(ylim_d, ylim_u)\n",
    "\n",
    "plt.show()"
   ]
  },
  {
   "cell_type": "code",
   "execution_count": null,
   "metadata": {},
   "outputs": [],
   "source": []
  }
 ],
 "metadata": {
  "kernelspec": {
   "display_name": "Python 3",
   "language": "python",
   "name": "python3"
  },
  "language_info": {
   "codemirror_mode": {
    "name": "ipython",
    "version": 3
   },
   "file_extension": ".py",
   "mimetype": "text/x-python",
   "name": "python",
   "nbconvert_exporter": "python",
   "pygments_lexer": "ipython3",
   "version": "3.6.5"
  }
 },
 "nbformat": 4,
 "nbformat_minor": 4
}
