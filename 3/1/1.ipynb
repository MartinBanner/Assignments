{
 "cells": [
  {
   "cell_type": "markdown",
   "metadata": {},
   "source": [
    "# 数据分析与机器学习-第一节作业"
   ]
  },
  {
   "cell_type": "markdown",
   "metadata": {},
   "source": [
    "---\n",
    "### 1. 请简略说明有监督学习和无监督学习有什么区别"
   ]
  },
  {
   "cell_type": "markdown",
   "metadata": {},
   "source": [
    "有监督学习：在给模型提供数据特征的同时也提供数据的真实的标签。  \n",
    "无监督学习：只提供数据特征，并不提供数据标签。  \n",
    "\n",
    "“有监督学习”和“无监督学习”的区别在于有没有给模型提供标签。有标签就是有监督学习，没有标签就是无监督学习。  \n",
    "<br/><br/>"
   ]
  },
  {
   "cell_type": "markdown",
   "metadata": {},
   "source": [
    "### 2. 请搜索资料，列出至少6种传统机器学习模型（神经网络不是传统模型哦）"
   ]
  },
  {
   "cell_type": "markdown",
   "metadata": {},
   "source": [
    "贝叶斯模型  \n",
    "决策树  \n",
    "支持向量机  \n",
    "逻辑回归  \n",
    "隐马尔可夫模型  \n",
    "KNN  \n",
    "<br/><br/>"
   ]
  },
  {
   "cell_type": "markdown",
   "metadata": {},
   "source": [
    "### 3. 请简略说明，为什么PR曲线能在正负样本极其不均衡的情况下很好地反映出模型真正地分类效果"
   ]
  },
  {
   "cell_type": "markdown",
   "metadata": {},
   "source": [
    "当正负样本分布极其不平衡时，如负样本数量远大于正样本数量的情况下：  \n",
    "<br/><br/>\n",
    "若预测为正的样本数量多于正样本的数量，则有&ensp;FN&ensp;等于&ensp;0。故，  \n",
    "召回率&ensp;：$𝑅=\\cfrac{𝑇𝑃}{𝑇𝑃+𝐹𝑁}=1$  \n",
    "假设模型预测结果失真严重，则&ensp;FP&ensp;值增大。  \n",
    "而&ensp;精确率&ensp;：$𝑃=\\cfrac{𝑇𝑃}{𝑇𝑃+𝐹𝑃}$，由于此时的&ensp;TP&ensp;值等于正样本数量，且正样本数量较少，故&ensp;FP 值的变化对&ensp;P&ensp;的影响较大。  \n",
    "<br/><br/>\n",
    "若预测为正的样本数量少于正样本的数量，则有&ensp;FP&ensp;等于&ensp;0。即，  \n",
    "精确率&ensp;：$𝑃=\\cfrac{𝑇𝑃}{𝑇𝑃+𝐹𝑃}=1$  \n",
    "同样，假设模型预测结果失真严重，则&ensp;FN&ensp;值增大。  \n",
    "而&ensp;召回率&ensp;：$𝑅=\\cfrac{𝑇𝑃}{𝑇𝑃+𝐹𝑁}$，由于此时的&ensp;TP&ensp;值等于预测为正的样本数量，而预测为正的样本数量小于正样本数量，且正样本数量较少，故&ensp;FN 值的变化对&ensp;P&ensp;的影响更大。  \n",
    "<br/><br/>\n",
    "综上所述，PR&ensp;曲线能在正负样本极其不均衡的情况下很好地反映出模型真正地分类效果。\n",
    "<br/><br/>"
   ]
  },
  {
   "cell_type": "markdown",
   "metadata": {},
   "source": [
    "### 4. 代码作业"
   ]
  },
  {
   "cell_type": "code",
   "execution_count": 1,
   "metadata": {},
   "outputs": [
    {
     "name": "stdout",
     "output_type": "stream",
     "text": [
      "x1=-2.6, x2=6.6, y=1\n",
      "x1=1.4, x2=1.6, y=2\n",
      "x1=-2.5, x2=1.2, y=2\n"
     ]
    }
   ],
   "source": [
    "# -*- coding: UTF-8 -*-\n",
    "\n",
    "\n",
    "\n",
    "import math\n",
    "\n",
    "\n",
    "\n",
    "class Point:\n",
    "    def __init__(self, x=0, y=0, ls:list=()):\n",
    "        self.x = x\n",
    "        self.y = y\n",
    "\n",
    "        if ls != ():\n",
    "            self.ls = ls\n",
    "            self.ls_convert(self.ls)\n",
    "\n",
    "\n",
    "    def __str__(self):\n",
    "        return \"x={0}, y={1}\".format(self.x, self.y)\n",
    "\n",
    "\n",
    "    def ls_convert(self, ls:list):\n",
    "        if len(ls) == 0:\n",
    "            self.x = 0\n",
    "            self.y = 0\n",
    "\n",
    "        if len(ls) == 1:\n",
    "            self.x = ls[0]\n",
    "            self.y = 0\n",
    "\n",
    "        if len(ls) >= 2:\n",
    "            self.x = ls[0]\n",
    "            self.y = ls[1]\n",
    "\n",
    "\n",
    "    def distance(self, point):\n",
    "        return math.sqrt((point.x-self.x)**2+(point.y-self.y)**2)\n",
    "\n",
    "\n",
    "\n",
    "# Point with lable.\n",
    "class PointWL(Point):\n",
    "    def __init__(self, x=0, y=0, label=None, ls:list=()):\n",
    "        super(PointWL, self).__init__(x, y)\n",
    "        self.lengths = []\n",
    "        self.labels = []\n",
    "\n",
    "        self.label = label\n",
    "\n",
    "        if ls != ():\n",
    "            self.ls = ls\n",
    "            self.ls_convert(self.ls)\n",
    "\n",
    "\n",
    "    def __str__(self):\n",
    "        return \"x={0}, y={1}, label={2}\".format(self.x, self.y, self.label)\n",
    "\n",
    "\n",
    "    def ls_convert(self, ls:list):\n",
    "        if len(ls) == 0:\n",
    "            self.x = 0\n",
    "            self.y = 0\n",
    "            self.label = None\n",
    "\n",
    "        if len(ls) == 1:\n",
    "            self.x = ls[0]\n",
    "            self.y = 0\n",
    "            self.label = None\n",
    "\n",
    "        if len(ls) == 2:\n",
    "            self.x = ls[0]\n",
    "            self.y = ls[1]\n",
    "            self.label = None\n",
    "\n",
    "        if len(ls) >= 3:\n",
    "            self.x = ls[0]\n",
    "            self.y = ls[1]\n",
    "            self.label = ls[2]\n",
    "\n",
    "\n",
    "    def classify(self):\n",
    "        self.label = max(self.labels, key=self.labels.count)\n",
    "\n",
    "\n",
    "    def knn(self, labeled_points:list, k:int):\n",
    "        temp_l = 0\n",
    "\n",
    "\n",
    "        if len(labeled_points) < 1:raise Exception(\"警告：已标注点数量必需大于等于 1。\")\n",
    "\n",
    "        if k < 1:raise Exception(\"警告：k 必需大于等于 1。\")\n",
    "        if k > len(labeled_points):raise Exception(\"警告：k 必需小于等于已标注点数量。\")\n",
    "\n",
    "\n",
    "        for i in range(len(labeled_points)):\n",
    "            if k:\n",
    "                self.lengths.append(self.distance(labeled_points[i]))\n",
    "                self.labels.append(labeled_points[i].label)\n",
    "                k -= 1\n",
    "            else:\n",
    "                for j in range(len(self.lengths)):\n",
    "                    temp_l = self.distance(labeled_points[i])\n",
    "                    if self.lengths[j] > temp_l:\n",
    "                        self.lengths[j] = temp_l\n",
    "                        self.labels[j] = labeled_points[i].label\n",
    "                        break\n",
    "                    else:\n",
    "                        pass\n",
    "\n",
    "        self.classify()\n",
    "\n",
    "        return self.label\n",
    "\n",
    "\n",
    "\n",
    "k = 1\n",
    "\n",
    "unlabeled_points = [[-2.6, 6.6, None], [1.4, 1.6, None], [-2.5, 1.2, None]]\n",
    "labeled_points = [[1, 1, 2], [0.4, 5.2, 1], [-2.8, -1.1, 2], [3.2, 1.4, 1], [-1.3, 3.2, 1], [-3, 3.1, 2]]\n",
    "\n",
    "\n",
    "for i in range(len(unlabeled_points)):\n",
    "    print(\"x1={0}, x2={1}, y={2}\".format(unlabeled_points[i][0], unlabeled_points[i][1], PointWL(ls=unlabeled_points[i]).knn([PointWL(ls=labeled_points[i]) for i in range(len(labeled_points))], k) ))"
   ]
  },
  {
   "cell_type": "code",
   "execution_count": null,
   "metadata": {},
   "outputs": [],
   "source": []
  }
 ],
 "metadata": {
  "kernelspec": {
   "display_name": "Python 3",
   "language": "python",
   "name": "python3"
  },
  "language_info": {
   "codemirror_mode": {
    "name": "ipython",
    "version": 3
   },
   "file_extension": ".py",
   "mimetype": "text/x-python",
   "name": "python",
   "nbconvert_exporter": "python",
   "pygments_lexer": "ipython3",
   "version": "3.6.5"
  }
 },
 "nbformat": 4,
 "nbformat_minor": 2
}
